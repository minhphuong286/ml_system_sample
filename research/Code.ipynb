{
 "cells": [
  {
   "cell_type": "code",
   "execution_count": 1,
   "id": "cf78af2e-5377-4bae-94d2-b9ec4ff13c93",
   "metadata": {
    "tags": []
   },
   "outputs": [
    {
     "name": "stdout",
     "output_type": "stream",
     "text": [
      "Requirement already satisfied: numpy in c:\\users\\minhp\\appdata\\local\\programs\\python\\python39\\lib\\site-packages (1.21.4)\n",
      "Requirement already satisfied: pandas in c:\\users\\minhp\\appdata\\local\\programs\\python\\python39\\lib\\site-packages (1.3.4)\n",
      "Requirement already satisfied: sklearn in c:\\users\\minhp\\appdata\\local\\programs\\python\\python39\\lib\\site-packages (0.0)\n",
      "Requirement already satisfied: joblib in c:\\users\\minhp\\appdata\\local\\programs\\python\\python39\\lib\\site-packages (1.1.0)\n",
      "Requirement already satisfied: python-dateutil>=2.7.3 in c:\\users\\minhp\\appdata\\local\\programs\\python\\python39\\lib\\site-packages (from pandas) (2.8.2)\n",
      "Requirement already satisfied: pytz>=2017.3 in c:\\users\\minhp\\appdata\\local\\programs\\python\\python39\\lib\\site-packages (from pandas) (2021.3)\n",
      "Requirement already satisfied: scikit-learn in c:\\users\\minhp\\appdata\\local\\programs\\python\\python39\\lib\\site-packages (from sklearn) (1.0.1)Note: you may need to restart the kernel to use updated packages.\n"
     ]
    },
    {
     "name": "stderr",
     "output_type": "stream",
     "text": [
      "WARNING: You are using pip version 21.2.4; however, version 21.3.1 is available."
     ]
    },
    {
     "name": "stdout",
     "output_type": "stream",
     "text": [
      "\n",
      "Requirement already satisfied: six>=1.5 in c:\\users\\minhp\\appdata\\local\\programs\\python\\python39\\lib\\site-packages (from python-dateutil>=2.7.3->pandas) (1.16.0)\n",
      "Requirement already satisfied: scipy>=1.1.0 in c:\\users\\minhp\\appdata\\local\\programs\\python\\python39\\lib\\site-packages (from scikit-learn->sklearn) (1.7.3)\n",
      "Requirement already satisfied: threadpoolctl>=2.0.0 in c:\\users\\minhp\\appdata\\local\\programs\\python\\python39\\lib\\site-packages (from scikit-learn->sklearn) (3.0.0)\n"
     ]
    },
    {
     "name": "stderr",
     "output_type": "stream",
     "text": [
      "\n",
      "You should consider upgrading via the 'C:\\Users\\minhp\\AppData\\Local\\Programs\\Python\\Python39\\python.exe -m pip install --upgrade pip' command.\n"
     ]
    }
   ],
   "source": [
    "pip install numpy pandas sklearn joblib"
   ]
  },
  {
   "cell_type": "code",
   "execution_count": 2,
   "id": "1ea563a3-6f23-4acc-8eab-66041919334f",
   "metadata": {},
   "outputs": [],
   "source": [
    "import json\n",
    "import numpy as np\n",
    "import pandas as pd\n",
    "from sklearn.preprocessing import LabelEncoder\n",
    "from sklearn.ensemble import RandomForestClassifier\n",
    "from sklearn.ensemble import ExtraTreesClassifier\n",
    "import joblib"
   ]
  },
  {
   "cell_type": "code",
   "execution_count": 3,
   "id": "8dba896b-c367-406d-a9b8-7376ced534d8",
   "metadata": {},
   "outputs": [],
   "source": [
    "features = [\"age\", \"workclass\", \"fnlwgt\", \"education\", \"education-num\", \"marital-status\", \"occupation\", \"relationship\", \"race\" , \"sex\", \"capital-gain\", \"capital-loss\", \"hours-per-week\", \"native-country\", \"income\"]"
   ]
  },
  {
   "cell_type": "code",
   "execution_count": 4,
   "id": "5b7d9b42-c0a4-445f-90e9-65eb6727d93c",
   "metadata": {},
   "outputs": [
    {
     "name": "stdout",
     "output_type": "stream",
     "text": [
      "   age          workclass   fnlwgt   education education-num  \\\n",
      "0  39,         State-gov,   77516,  Bachelors,           13,   \n",
      "1  50,  Self-emp-not-inc,   83311,  Bachelors,           13,   \n",
      "2  38,           Private,  215646,    HS-grad,            9,   \n",
      "3  53,           Private,  234721,       11th,            7,   \n",
      "4  28,           Private,  338409,  Bachelors,           13,   \n",
      "\n",
      "        marital-status          occupation    relationship    race      sex  \\\n",
      "0       Never-married,       Adm-clerical,  Not-in-family,  White,    Male,   \n",
      "1  Married-civ-spouse,    Exec-managerial,        Husband,  White,    Male,   \n",
      "2            Divorced,  Handlers-cleaners,  Not-in-family,  White,    Male,   \n",
      "3  Married-civ-spouse,  Handlers-cleaners,        Husband,  Black,    Male,   \n",
      "4  Married-civ-spouse,     Prof-specialty,           Wife,  Black,  Female,   \n",
      "\n",
      "  capital-gain capital-loss hours-per-week  native-country income  \n",
      "0        2174,           0,            40,  United-States,  <=50K  \n",
      "1           0,           0,            13,  United-States,  <=50K  \n",
      "2           0,           0,            40,  United-States,  <=50K  \n",
      "3           0,           0,            40,  United-States,  <=50K  \n",
      "4           0,           0,            40,           Cuba,  <=50K  \n"
     ]
    }
   ],
   "source": [
    "data_train = pd.read_csv(\"adult.data\", sep=\" \", header=None)\n",
    "data_train.columns = features\n",
    "print(data_train.head())"
   ]
  },
  {
   "cell_type": "code",
   "execution_count": 5,
   "id": "00ed8734-88b7-450f-b9e9-71cb772b545a",
   "metadata": {},
   "outputs": [
    {
     "name": "stdout",
     "output_type": "stream",
     "text": [
      "(32561, 14) (32561,)\n"
     ]
    }
   ],
   "source": [
    "X_train = data_train[features[:-1]]\n",
    "y_train = data_train[\"income\"]\n",
    "print(X_train.shape, y_train.shape)"
   ]
  },
  {
   "cell_type": "code",
   "execution_count": 6,
   "id": "82a1c61c-e7dc-416c-8d9e-2c33b52e9395",
   "metadata": {},
   "outputs": [
    {
     "name": "stderr",
     "output_type": "stream",
     "text": [
      "C:\\Users\\minhp\\AppData\\Local\\Programs\\Python\\Python39\\lib\\site-packages\\pandas\\util\\_decorators.py:311: ParserWarning: Falling back to the 'python' engine because the 'c' engine does not support regex separators (separators > 1 char and different from '\\s+' are interpreted as regex); you can avoid this warning by specifying engine='python'.\n",
      "  return func(*args, **kwargs)\n"
     ]
    },
    {
     "name": "stdout",
     "output_type": "stream",
     "text": [
      "   age  workclass  fnlwgt     education  education-num      marital-status  \\\n",
      "0   25    Private  226802          11th              7       Never-married   \n",
      "1   38    Private   89814       HS-grad              9  Married-civ-spouse   \n",
      "2   28  Local-gov  336951    Assoc-acdm             12  Married-civ-spouse   \n",
      "3   44    Private  160323  Some-college             10  Married-civ-spouse   \n",
      "4   18          ?  103497  Some-college             10       Never-married   \n",
      "\n",
      "          occupation relationship   race     sex  capital-gain  capital-loss  \\\n",
      "0  Machine-op-inspct    Own-child  Black    Male             0             0   \n",
      "1    Farming-fishing      Husband  White    Male             0             0   \n",
      "2    Protective-serv      Husband  White    Male             0             0   \n",
      "3  Machine-op-inspct      Husband  Black    Male          7688             0   \n",
      "4                  ?    Own-child  White  Female             0             0   \n",
      "\n",
      "   hours-per-week native-country  income  \n",
      "0              40  United-States  <=50K.  \n",
      "1              50  United-States  <=50K.  \n",
      "2              40  United-States   >50K.  \n",
      "3              40  United-States   >50K.  \n",
      "4              30  United-States  <=50K.  \n"
     ]
    }
   ],
   "source": [
    "data_test = pd.read_csv(\"adult.test\", sep=\", \", header=None)\n",
    "data_test.columns = features\n",
    "\n",
    "print(data_test.head())"
   ]
  },
  {
   "cell_type": "code",
   "execution_count": 7,
   "id": "39dc6195-d4e2-4f89-999a-d0f26fce1e32",
   "metadata": {},
   "outputs": [
    {
     "name": "stdout",
     "output_type": "stream",
     "text": [
      "(16281, 14) (16281,)\n"
     ]
    }
   ],
   "source": [
    "X_test = data_test[features[:-1]]\n",
    "y_test = data_test[\"income\"]\n",
    "print(X_test.shape, y_test.shape)"
   ]
  },
  {
   "cell_type": "code",
   "execution_count": 8,
   "id": "ecaffa79-b030-4fa4-a627-c691ff1d1e08",
   "metadata": {},
   "outputs": [],
   "source": [
    "train_mode = dict(X_train.mode().iloc[0]) # mode() để lấy giá trị xuất hiện nhiều và iloc để xác định vị trí\n",
    "X_train = X_train.fillna(train_mode) # fill giá trị NaN, Na, Null, ... bằng param đưa vào"
   ]
  },
  {
   "cell_type": "code",
   "execution_count": 9,
   "id": "abbd0de7-2d08-4e6b-8ca0-424b24a8e912",
   "metadata": {},
   "outputs": [
    {
     "name": "stdout",
     "output_type": "stream",
     "text": [
      "   age  workclass   fnlwgt  education education-num  marital-status  \\\n",
      "0  39,          7   77516,          9           13,               4   \n",
      "1  50,          6   83311,          9           13,               2   \n",
      "2  38,          4  215646,         11            9,               0   \n",
      "3  53,          4  234721,          1            7,               2   \n",
      "4  28,          4  338409,          9           13,               2   \n",
      "\n",
      "   occupation  relationship  race  sex capital-gain capital-loss  \\\n",
      "0           1             1     4    1        2174,           0,   \n",
      "1           4             0     4    1           0,           0,   \n",
      "2           6             1     4    1           0,           0,   \n",
      "3           6             0     2    1           0,           0,   \n",
      "4          10             5     2    0           0,           0,   \n",
      "\n",
      "  hours-per-week  native-country  \n",
      "0            40,              39  \n",
      "1            13,              39  \n",
      "2            40,              39  \n",
      "3            40,              39  \n",
      "4            40,               5  \n"
     ]
    }
   ],
   "source": [
    "features_categorical = ['workclass', 'education', 'marital-status', 'occupation', 'relationship', 'race', 'sex','native-country']\n",
    "encoders = {}\n",
    "for column in features_categorical:\n",
    "    X_train[column] = LabelEncoder().fit_transform(X_train[column])\n",
    "    encoders[column] = LabelEncoder()\n",
    "print(X_train.head())"
   ]
  },
  {
   "cell_type": "code",
   "execution_count": 10,
   "id": "05ece332-595a-4ea8-9eb2-e9509861a584",
   "metadata": {},
   "outputs": [],
   "source": [
    "for c in features[:-1]:\n",
    "    if X_train[c].dtypes != \"int\":\n",
    "        X_train[c] = X_train[c].apply(lambda x: x.split(',')[0]).astype('int64')"
   ]
  },
  {
   "cell_type": "code",
   "execution_count": 11,
   "id": "b0d0e7f0-0e23-4515-8a4e-7c22f8212f76",
   "metadata": {},
   "outputs": [],
   "source": [
    "# train the Random Forest algorithm\n",
    "rf = RandomForestClassifier(n_estimators = 100) # n_estimators: số  lượng trees\n",
    "rf = rf.fit(X_train, y_train)"
   ]
  },
  {
   "cell_type": "code",
   "execution_count": 12,
   "id": "6621766e-ae66-4062-9952-c05ec18cd9b9",
   "metadata": {},
   "outputs": [],
   "source": [
    "# train the Extra Trees algorithm\n",
    "et = ExtraTreesClassifier(n_estimators = 100)\n",
    "et = et.fit(X_train, y_train)"
   ]
  },
  {
   "cell_type": "code",
   "execution_count": 13,
   "id": "2ce428fd-e441-48f8-be51-52910ff3592a",
   "metadata": {},
   "outputs": [
    {
     "data": {
      "text/plain": [
       "['./extra_trees.joblib']"
      ]
     },
     "execution_count": 13,
     "metadata": {},
     "output_type": "execute_result"
    }
   ],
   "source": [
    "# save preprocessing objects and weights\n",
    "joblib.dump(train_mode, \"./train_mode.joblib\", compress=True)\n",
    "joblib.dump(encoders, \"./encoders.joblib\", compress=True)\n",
    "joblib.dump(rf, \"./random_forest.joblib\", compress=True)\n",
    "joblib.dump(et, \"./extra_trees.joblib\", compress=True)"
   ]
  },
  {
   "cell_type": "code",
   "execution_count": null,
   "id": "f712e8ce-9432-48ea-a753-5eb125b23fd4",
   "metadata": {},
   "outputs": [],
   "source": []
  }
 ],
 "metadata": {
  "kernelspec": {
   "display_name": "Python 3 (ipykernel)",
   "language": "python",
   "name": "python3"
  },
  "language_info": {
   "codemirror_mode": {
    "name": "ipython",
    "version": 3
   },
   "file_extension": ".py",
   "mimetype": "text/x-python",
   "name": "python",
   "nbconvert_exporter": "python",
   "pygments_lexer": "ipython3",
   "version": "3.9.9"
  }
 },
 "nbformat": 4,
 "nbformat_minor": 5
}
